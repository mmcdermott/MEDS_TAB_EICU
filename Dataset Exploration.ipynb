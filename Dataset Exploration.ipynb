{
 "cells": [
  {
   "cell_type": "code",
   "execution_count": null,
   "id": "958bf1f8-aef9-40b6-bc14-14dde1786a30",
   "metadata": {},
   "outputs": [],
   "source": [
    "import os\n",
    "from pathlib import Path\n",
    "import polars as pl\n",
    "pl.enable_string_cache()\n",
    "\n",
    "from tqdm.auto import tqdm"
   ]
  },
  {
   "cell_type": "code",
   "execution_count": null,
   "id": "dea9be42-46b5-4031-be0d-4534878e613c",
   "metadata": {},
   "outputs": [],
   "source": [
    "for env_str in Path(\".env\").read_text().split():\n",
    "    var, val = env_str.split(\"=\")\n",
    "    print(f\"Setting {var} to {val}\")\n",
    "    os.environ[var] = val"
   ]
  },
  {
   "cell_type": "code",
   "execution_count": null,
   "id": "be781ee4-e464-44c2-8708-59492e08c6cf",
   "metadata": {},
   "outputs": [],
   "source": [
    "MEDS_dir = Path(os.environ[\"MEDS_DIR\"])\n",
    "MEDS_final_cohort = MEDS_dir / \"final_cohort\"\n",
    "shards = [str(fp.relative_to(MEDS_final_cohort)) for fp in MEDS_final_cohort.glob(\"**/*.parquet\")]\n",
    "train_shards = [s for s in shards if s.startswith(\"train/\")]"
   ]
  },
  {
   "cell_type": "code",
   "execution_count": null,
   "id": "b2f9a1ca-6000-4d1c-8f36-c92319f5eff5",
   "metadata": {},
   "outputs": [],
   "source": [
    "%%time\n",
    "code_df = None\n",
    "for s in tqdm(train_shards):\n",
    "    df = (\n",
    "        pl.scan_parquet(MEDS_final_cohort / s)\n",
    "        .drop_nulls(subset=\"code\")\n",
    "        .group_by(\"code\")\n",
    "        .agg(pl.col(\"patient_id\").n_unique().alias(\"n_patients\"), pl.len().alias(\"n_occurrences\"))\n",
    "    )\n",
    "\n",
    "    if df.select(pl.col(\"code\").is_null().any()).collect().item():\n",
    "        raise ValueError\n",
    "\n",
    "    if code_df is None: code_df = df\n",
    "    else:\n",
    "        code_df = (\n",
    "            code_df\n",
    "            .join(df, suffix=\"_right\", on=\"code\", how=\"outer\")\n",
    "            .select(\n",
    "                pl.coalesce(\"code\", \"code_right\").alias(\"code\"),\n",
    "                (pl.col(\"n_patients\").fill_null(0) + pl.col(\"n_patients_right\").fill_null(0)).alias(\"n_patients\"),\n",
    "                (pl.col(\"n_occurrences\").fill_null(0) + pl.col(\"n_occurrences_right\").fill_null(0)).alias(\"n_occurrences\"),\n",
    "            )\n",
    "        )\n",
    "\n",
    "code_df = code_df.collect()"
   ]
  },
  {
   "cell_type": "code",
   "execution_count": null,
   "id": "0906f88e-ac9c-4e1c-b122-54644428354b",
   "metadata": {},
   "outputs": [],
   "source": [
    "code_df = code_df.filter(pl.col(\"n_patients\") > 10).sort(\"n_occurrences\", descending=True)"
   ]
  },
  {
   "cell_type": "code",
   "execution_count": null,
   "id": "05538572-980e-4bae-8160-d56ab4173666",
   "metadata": {},
   "outputs": [],
   "source": [
    "code_df"
   ]
  },
  {
   "cell_type": "code",
   "execution_count": null,
   "id": "c5eb63a5-e885-4836-b852-b7a27908a5d9",
   "metadata": {},
   "outputs": [],
   "source": [
    "code_strs = code_df[\"code\"].to_list()"
   ]
  },
  {
   "cell_type": "code",
   "execution_count": null,
   "id": "d0d5d47a-9250-4604-9060-15db7cbc8717",
   "metadata": {},
   "outputs": [],
   "source": [
    "hosp_admit_codes = [c for c in code_strs if c.startswith(\"HOSPITAL_ADMISSION//\")]\n",
    "# icu_admit_codes = [c for c in code_strs if c.startswith(\"UNIT_ADMISSION//\") and \"icu\" in c.lower()]\n",
    "icu_admit_codes = [\n",
    "    'UNIT_ADMISSION//ICU//stepdown/other',\n",
    "    'UNIT_ADMISSION//ICU//transfer',\n",
    "    'UNIT_ADMISSION//Other ICU//admit',\n",
    "    'UNIT_ADMISSION//Other ICU//stepdown/other',\n",
    "    'UNIT_ADMISSION//ICU//admit',\n",
    "    'UNIT_ADMISSION//ICU//readmit'\n",
    "]\n",
    "hosp_disch_codes = [c for c in code_strs if c.startswith(\"HOSPITAL_DISCHARGE//\")]\n",
    "icu_disch_codes = [c for c in code_strs if c.startswith(\"UNIT_DISCHARGE//\")]\n",
    "death_codes = [c for c in code_strs if \"death\" in c.lower()]"
   ]
  },
  {
   "cell_type": "code",
   "execution_count": null,
   "id": "1f9a93b4-ad9f-4701-8cc5-12a2f653b803",
   "metadata": {},
   "outputs": [],
   "source": [
    "import string\n",
    "\n",
    "def make_plain_predicate(code: str, i: int, base_name: str | None = None) -> str:\n",
    "    pred_name = f\"{base_name if base_name is not None else code.split('//')[0].lower()}_{i}\"\n",
    "    return \"\\n\".join([f\"  {pred_name}:\", f\"    code: {code}\"])\n",
    "def make_or_predicate(codes: str, pred_name: str, base_name: str | None = None) -> str:\n",
    "    codes_as_preds = [f\"{base_name if base_name is not None else c.split('//')[0].lower()}_{i}\" for i, c in enumerate(codes)]\n",
    "    return \"\\n\".join([f\"  {pred_name}:\", f\"    expr: or({','.join(codes_as_preds)})\"])"
   ]
  },
  {
   "cell_type": "markdown",
   "id": "00a6d0a5-f14c-4222-819e-759963053ad9",
   "metadata": {},
   "source": [
    "## Hospital Admission"
   ]
  },
  {
   "cell_type": "code",
   "execution_count": null,
   "id": "8c635288-a2c4-41f9-8acd-3619300a2207",
   "metadata": {
    "scrolled": true
   },
   "outputs": [],
   "source": [
    "for i, code in enumerate(hosp_admit_codes):\n",
    "    print(make_plain_predicate(code, i))\n",
    "print(make_or_predicate(hosp_admit_codes, \"hospital_admission\"))"
   ]
  },
  {
   "cell_type": "markdown",
   "id": "aa502c43-15f5-4f10-91f1-d49b7ab787b3",
   "metadata": {},
   "source": [
    "## Hospital Discharge"
   ]
  },
  {
   "cell_type": "code",
   "execution_count": null,
   "id": "22667ce1-1f83-40ed-b0ff-516d61def7d0",
   "metadata": {},
   "outputs": [],
   "source": [
    "for i, code in enumerate(hosp_disch_codes):\n",
    "    print(make_plain_predicate(code, i))\n",
    "print(make_or_predicate(hosp_disch_codes, \"hospital_discharge\"))"
   ]
  },
  {
   "cell_type": "markdown",
   "id": "2a379391-ebdf-4d3f-bcf9-ba649808308a",
   "metadata": {},
   "source": [
    "## ICU Admission"
   ]
  },
  {
   "cell_type": "code",
   "execution_count": null,
   "id": "5bf88d69-d076-4a09-9f7d-d5d44143cce0",
   "metadata": {},
   "outputs": [],
   "source": [
    "for i, code in enumerate(icu_admit_codes):\n",
    "    print(make_plain_predicate(code, i))\n",
    "print(make_or_predicate(icu_admit_codes, \"icu_admission\"))"
   ]
  },
  {
   "cell_type": "markdown",
   "id": "d8a20384-4212-4db7-b696-f48dd6226c45",
   "metadata": {},
   "source": [
    "## ICU Discharge"
   ]
  },
  {
   "cell_type": "code",
   "execution_count": null,
   "id": "aef396f4-7814-42cb-b4b0-5738bdc1ad86",
   "metadata": {},
   "outputs": [],
   "source": [
    "for i, code in enumerate(icu_disch_codes):\n",
    "    print(make_plain_predicate(code, i))\n",
    "print(make_or_predicate(icu_disch_codes, \"icu_discharge\"))"
   ]
  },
  {
   "cell_type": "markdown",
   "id": "1a1d3e8a-f576-43ff-9e6f-c6b1969c8d13",
   "metadata": {},
   "source": [
    "## Death"
   ]
  },
  {
   "cell_type": "code",
   "execution_count": null,
   "id": "e473c83a-35cc-4a84-93b5-e3c1bfc83ac4",
   "metadata": {},
   "outputs": [],
   "source": [
    "for i, code in enumerate(death_codes):\n",
    "    print(make_plain_predicate(code, i, \"death\"))\n",
    "print(make_or_predicate(death_codes, \"death\", base_name=\"death\"))"
   ]
  },
  {
   "cell_type": "code",
   "execution_count": null,
   "id": "1c3e47c6-c38b-4863-baab-b2af48c7fef7",
   "metadata": {},
   "outputs": [],
   "source": []
  }
 ],
 "metadata": {
  "kernelspec": {
   "display_name": "Python 3 (ipykernel)",
   "language": "python",
   "name": "python3"
  },
  "language_info": {
   "codemirror_mode": {
    "name": "ipython",
    "version": 3
   },
   "file_extension": ".py",
   "mimetype": "text/x-python",
   "name": "python",
   "nbconvert_exporter": "python",
   "pygments_lexer": "ipython3",
   "version": "3.12.5"
  }
 },
 "nbformat": 4,
 "nbformat_minor": 5
}
